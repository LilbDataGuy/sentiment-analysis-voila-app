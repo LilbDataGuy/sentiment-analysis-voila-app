{
 "cells": [
  {
   "cell_type": "markdown",
   "id": "57fb7169",
   "metadata": {},
   "source": [
    "# 🎬 Sentiment Analysis Web App with Voila\n",
    "This notebook allows you to enter movie reviews and predict sentiment using a trained Naive Bayes model.\n",
    "Run this notebook interactively, or launch it as a standalone web app using `voila`."
   ]
  },
  {
   "cell_type": "code",
   "execution_count": null,
   "id": "fe3fe261",
   "metadata": {},
   "outputs": [],
   "source": [
    "import nltk\n",
    "import pandas as pd\n",
    "from sklearn.feature_extraction.text import CountVectorizer\n",
    "from sklearn.model_selection import train_test_split\n",
    "from sklearn.naive_bayes import MultinomialNB\n",
    "from nltk.corpus import movie_reviews\n",
    "from sklearn.utils import shuffle\n",
    "nltk.download('movie_reviews')\n",
    "\n",
    "# Load and prepare data\n",
    "documents = [\n",
    "    (' '.join(movie_reviews.words(fileid)), category)\n",
    "    for category in movie_reviews.categories()\n",
    "    for fileid in movie_reviews.fileids(category)\n",
    "]\n",
    "df = pd.DataFrame(documents, columns=['review', 'sentiment'])\n",
    "df = shuffle(df, random_state=42)\n",
    "\n",
    "# Vectorization and training\n",
    "vectorizer = CountVectorizer(max_features=2000)\n",
    "X = vectorizer.fit_transform(df['review'])\n",
    "y = df['sentiment']\n",
    "X_train, X_test, y_train, y_test = train_test_split(X, y, test_size=0.2, random_state=42)\n",
    "model = MultinomialNB()\n",
    "model.fit(X_train, y_train)\n",
    "\n",
    "def predict_sentiment(text):\n",
    "    text_vector = vectorizer.transform([text])\n",
    "    prediction = model.predict(text_vector)\n",
    "    return prediction[0]"
   ]
  },
  {
   "cell_type": "code",
   "execution_count": null,
   "id": "1ac5b383",
   "metadata": {},
   "outputs": [],
   "source": [
    "import ipywidgets as widgets\n",
    "from IPython.display import display, clear_output"
   ]
  },
  {
   "cell_type": "code",
   "execution_count": null,
   "id": "8127edff",
   "metadata": {},
   "outputs": [],
   "source": [
    "# Create widgets\n",
    "input_box = widgets.Textarea(\n",
    "    placeholder='Type your movie review here...',\n",
    "    layout=widgets.Layout(width='600px', height='100px')\n",
    ")\n",
    "output_label = widgets.Label(value=\"\")\n",
    "button = widgets.Button(description=\"Analyze Sentiment\")\n",
    "output_area = widgets.Output()\n",
    "\n",
    "# Sentiment counters\n",
    "pos_count = 0\n",
    "neg_count = 0\n",
    "\n",
    "def on_button_click(b):\n",
    "    global pos_count, neg_count\n",
    "    review = input_box.value\n",
    "    prediction = predict_sentiment(review)\n",
    "    if prediction == 'pos':\n",
    "        pos_count += 1\n",
    "    else:\n",
    "        neg_count += 1\n",
    "    with output_area:\n",
    "        clear_output()\n",
    "        print(f'🎬 Predicted Sentiment: {prediction.upper()}')\n",
    "        print(f'👍 Positive: {pos_count}   👎 Negative: {neg_count}')\n",
    "\n",
    "button.on_click(on_button_click)\n",
    "display(input_box, button, output_label, output_area)"
   ]
  }
 ],
 "metadata": {},
 "nbformat": 4,
 "nbformat_minor": 5
}
